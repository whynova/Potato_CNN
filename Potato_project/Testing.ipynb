{
 "cells": [
  {
   "cell_type": "code",
   "execution_count": 3,
   "id": "553c3781",
   "metadata": {},
   "outputs": [
    {
     "name": "stdout",
     "output_type": "stream",
     "text": [
      "Collecting python-multipart\n",
      "  Downloading python_multipart-0.0.6-py3-none-any.whl (45 kB)\n",
      "\u001b[2K     \u001b[90m━━━━━━━━━━━━━━━━━━━━━━━━━━━━━━━━━━━━━━━\u001b[0m \u001b[32m45.7/45.7 kB\u001b[0m \u001b[31m646.9 kB/s\u001b[0m eta \u001b[36m0:00:00\u001b[0m \u001b[36m0:00:01\u001b[0m\n",
      "\u001b[?25hInstalling collected packages: python-multipart\n",
      "Successfully installed python-multipart-0.0.6\n",
      "Requirement already satisfied: pillow in /Users/harshnitekumar/anaconda3/lib/python3.11/site-packages (9.4.0)\n",
      "Collecting tensorflow-serving-api\n",
      "  Obtaining dependency information for tensorflow-serving-api from https://files.pythonhosted.org/packages/71/fe/4004906ca558255673fab41a1bb2189ca6454417487a8608100677c8cc15/tensorflow_serving_api-2.13.0-py2.py3-none-any.whl.metadata\n",
      "  Downloading tensorflow_serving_api-2.13.0-py2.py3-none-any.whl.metadata (1.8 kB)\n",
      "Requirement already satisfied: grpcio<2.0,>=1.24.3 in /Users/harshnitekumar/anaconda3/lib/python3.11/site-packages (from tensorflow-serving-api) (1.57.0)\n",
      "Requirement already satisfied: protobuf!=4.21.0,!=4.21.1,!=4.21.2,!=4.21.3,!=4.21.4,!=4.21.5,<5.0.0dev,>=3.20.3 in /Users/harshnitekumar/anaconda3/lib/python3.11/site-packages (from tensorflow-serving-api) (4.24.0)\n",
      "Requirement already satisfied: tensorflow<3,>=2.13.0 in /Users/harshnitekumar/anaconda3/lib/python3.11/site-packages (from tensorflow-serving-api) (2.13.0)\n",
      "Requirement already satisfied: absl-py>=1.0.0 in /Users/harshnitekumar/anaconda3/lib/python3.11/site-packages (from tensorflow<3,>=2.13.0->tensorflow-serving-api) (1.4.0)\n",
      "Requirement already satisfied: astunparse>=1.6.0 in /Users/harshnitekumar/anaconda3/lib/python3.11/site-packages (from tensorflow<3,>=2.13.0->tensorflow-serving-api) (1.6.3)\n",
      "Requirement already satisfied: flatbuffers>=23.1.21 in /Users/harshnitekumar/anaconda3/lib/python3.11/site-packages (from tensorflow<3,>=2.13.0->tensorflow-serving-api) (23.5.26)\n",
      "Requirement already satisfied: gast<=0.4.0,>=0.2.1 in /Users/harshnitekumar/anaconda3/lib/python3.11/site-packages (from tensorflow<3,>=2.13.0->tensorflow-serving-api) (0.4.0)\n",
      "Requirement already satisfied: google-pasta>=0.1.1 in /Users/harshnitekumar/anaconda3/lib/python3.11/site-packages (from tensorflow<3,>=2.13.0->tensorflow-serving-api) (0.2.0)\n",
      "Requirement already satisfied: h5py>=2.9.0 in /Users/harshnitekumar/anaconda3/lib/python3.11/site-packages (from tensorflow<3,>=2.13.0->tensorflow-serving-api) (3.7.0)\n",
      "Requirement already satisfied: libclang>=13.0.0 in /Users/harshnitekumar/anaconda3/lib/python3.11/site-packages (from tensorflow<3,>=2.13.0->tensorflow-serving-api) (16.0.6)\n",
      "Requirement already satisfied: numpy<=1.24.3,>=1.22 in /Users/harshnitekumar/anaconda3/lib/python3.11/site-packages (from tensorflow<3,>=2.13.0->tensorflow-serving-api) (1.24.3)\n",
      "Requirement already satisfied: opt-einsum>=2.3.2 in /Users/harshnitekumar/anaconda3/lib/python3.11/site-packages (from tensorflow<3,>=2.13.0->tensorflow-serving-api) (3.3.0)\n",
      "Requirement already satisfied: packaging in /Users/harshnitekumar/anaconda3/lib/python3.11/site-packages (from tensorflow<3,>=2.13.0->tensorflow-serving-api) (23.0)\n",
      "Requirement already satisfied: setuptools in /Users/harshnitekumar/anaconda3/lib/python3.11/site-packages (from tensorflow<3,>=2.13.0->tensorflow-serving-api) (68.0.0)\n",
      "Requirement already satisfied: six>=1.12.0 in /Users/harshnitekumar/anaconda3/lib/python3.11/site-packages (from tensorflow<3,>=2.13.0->tensorflow-serving-api) (1.16.0)\n",
      "Requirement already satisfied: termcolor>=1.1.0 in /Users/harshnitekumar/anaconda3/lib/python3.11/site-packages (from tensorflow<3,>=2.13.0->tensorflow-serving-api) (2.3.0)\n",
      "Collecting typing-extensions<4.6.0,>=3.6.6 (from tensorflow<3,>=2.13.0->tensorflow-serving-api)\n",
      "  Using cached typing_extensions-4.5.0-py3-none-any.whl (27 kB)\n",
      "Requirement already satisfied: wrapt>=1.11.0 in /Users/harshnitekumar/anaconda3/lib/python3.11/site-packages (from tensorflow<3,>=2.13.0->tensorflow-serving-api) (1.14.1)\n",
      "Requirement already satisfied: tensorboard<2.14,>=2.13 in /Users/harshnitekumar/anaconda3/lib/python3.11/site-packages (from tensorflow<3,>=2.13.0->tensorflow-serving-api) (2.13.0)\n",
      "Requirement already satisfied: tensorflow-estimator<2.14,>=2.13.0 in /Users/harshnitekumar/anaconda3/lib/python3.11/site-packages (from tensorflow<3,>=2.13.0->tensorflow-serving-api) (2.13.0)\n",
      "Requirement already satisfied: keras<2.14,>=2.13.1 in /Users/harshnitekumar/anaconda3/lib/python3.11/site-packages (from tensorflow<3,>=2.13.0->tensorflow-serving-api) (2.13.1)\n",
      "Requirement already satisfied: tensorflow-io-gcs-filesystem>=0.23.1 in /Users/harshnitekumar/anaconda3/lib/python3.11/site-packages (from tensorflow<3,>=2.13.0->tensorflow-serving-api) (0.33.0)\n",
      "Requirement already satisfied: wheel<1.0,>=0.23.0 in /Users/harshnitekumar/anaconda3/lib/python3.11/site-packages (from astunparse>=1.6.0->tensorflow<3,>=2.13.0->tensorflow-serving-api) (0.38.4)\n",
      "Requirement already satisfied: google-auth<3,>=1.6.3 in /Users/harshnitekumar/anaconda3/lib/python3.11/site-packages (from tensorboard<2.14,>=2.13->tensorflow<3,>=2.13.0->tensorflow-serving-api) (2.22.0)\n",
      "Requirement already satisfied: google-auth-oauthlib<1.1,>=0.5 in /Users/harshnitekumar/anaconda3/lib/python3.11/site-packages (from tensorboard<2.14,>=2.13->tensorflow<3,>=2.13.0->tensorflow-serving-api) (1.0.0)\n",
      "Requirement already satisfied: markdown>=2.6.8 in /Users/harshnitekumar/anaconda3/lib/python3.11/site-packages (from tensorboard<2.14,>=2.13->tensorflow<3,>=2.13.0->tensorflow-serving-api) (3.4.1)\n",
      "Requirement already satisfied: requests<3,>=2.21.0 in /Users/harshnitekumar/anaconda3/lib/python3.11/site-packages (from tensorboard<2.14,>=2.13->tensorflow<3,>=2.13.0->tensorflow-serving-api) (2.31.0)\n",
      "Requirement already satisfied: tensorboard-data-server<0.8.0,>=0.7.0 in /Users/harshnitekumar/anaconda3/lib/python3.11/site-packages (from tensorboard<2.14,>=2.13->tensorflow<3,>=2.13.0->tensorflow-serving-api) (0.7.1)\n",
      "Requirement already satisfied: werkzeug>=1.0.1 in /Users/harshnitekumar/anaconda3/lib/python3.11/site-packages (from tensorboard<2.14,>=2.13->tensorflow<3,>=2.13.0->tensorflow-serving-api) (2.2.3)\n",
      "Requirement already satisfied: cachetools<6.0,>=2.0.0 in /Users/harshnitekumar/anaconda3/lib/python3.11/site-packages (from google-auth<3,>=1.6.3->tensorboard<2.14,>=2.13->tensorflow<3,>=2.13.0->tensorflow-serving-api) (5.3.1)\n",
      "Requirement already satisfied: pyasn1-modules>=0.2.1 in /Users/harshnitekumar/anaconda3/lib/python3.11/site-packages (from google-auth<3,>=1.6.3->tensorboard<2.14,>=2.13->tensorflow<3,>=2.13.0->tensorflow-serving-api) (0.2.8)\n",
      "Requirement already satisfied: rsa<5,>=3.1.4 in /Users/harshnitekumar/anaconda3/lib/python3.11/site-packages (from google-auth<3,>=1.6.3->tensorboard<2.14,>=2.13->tensorflow<3,>=2.13.0->tensorflow-serving-api) (4.9)\n",
      "Requirement already satisfied: urllib3<2.0 in /Users/harshnitekumar/anaconda3/lib/python3.11/site-packages (from google-auth<3,>=1.6.3->tensorboard<2.14,>=2.13->tensorflow<3,>=2.13.0->tensorflow-serving-api) (1.26.16)\n",
      "Requirement already satisfied: requests-oauthlib>=0.7.0 in /Users/harshnitekumar/anaconda3/lib/python3.11/site-packages (from google-auth-oauthlib<1.1,>=0.5->tensorboard<2.14,>=2.13->tensorflow<3,>=2.13.0->tensorflow-serving-api) (1.3.1)\n",
      "Requirement already satisfied: charset-normalizer<4,>=2 in /Users/harshnitekumar/anaconda3/lib/python3.11/site-packages (from requests<3,>=2.21.0->tensorboard<2.14,>=2.13->tensorflow<3,>=2.13.0->tensorflow-serving-api) (2.0.4)\n",
      "Requirement already satisfied: idna<4,>=2.5 in /Users/harshnitekumar/anaconda3/lib/python3.11/site-packages (from requests<3,>=2.21.0->tensorboard<2.14,>=2.13->tensorflow<3,>=2.13.0->tensorflow-serving-api) (3.4)\n",
      "Requirement already satisfied: certifi>=2017.4.17 in /Users/harshnitekumar/anaconda3/lib/python3.11/site-packages (from requests<3,>=2.21.0->tensorboard<2.14,>=2.13->tensorflow<3,>=2.13.0->tensorflow-serving-api) (2023.7.22)\n",
      "Requirement already satisfied: MarkupSafe>=2.1.1 in /Users/harshnitekumar/anaconda3/lib/python3.11/site-packages (from werkzeug>=1.0.1->tensorboard<2.14,>=2.13->tensorflow<3,>=2.13.0->tensorflow-serving-api) (2.1.1)\n",
      "Requirement already satisfied: pyasn1<0.5.0,>=0.4.6 in /Users/harshnitekumar/anaconda3/lib/python3.11/site-packages (from pyasn1-modules>=0.2.1->google-auth<3,>=1.6.3->tensorboard<2.14,>=2.13->tensorflow<3,>=2.13.0->tensorflow-serving-api) (0.4.8)\n",
      "Requirement already satisfied: oauthlib>=3.0.0 in /Users/harshnitekumar/anaconda3/lib/python3.11/site-packages (from requests-oauthlib>=0.7.0->google-auth-oauthlib<1.1,>=0.5->tensorboard<2.14,>=2.13->tensorflow<3,>=2.13.0->tensorflow-serving-api) (3.2.2)\n"
     ]
    },
    {
     "name": "stdout",
     "output_type": "stream",
     "text": [
      "Downloading tensorflow_serving_api-2.13.0-py2.py3-none-any.whl (26 kB)\n",
      "Installing collected packages: typing-extensions, tensorflow-serving-api\n",
      "  Attempting uninstall: typing-extensions\n",
      "    Found existing installation: typing_extensions 4.7.1\n",
      "    Uninstalling typing_extensions-4.7.1:\n",
      "      Successfully uninstalled typing_extensions-4.7.1\n",
      "\u001b[31mERROR: pip's dependency resolver does not currently take into account all the packages that are installed. This behaviour is the source of the following dependency conflicts.\n",
      "pydantic 2.1.1 requires typing-extensions>=4.6.1, but you have typing-extensions 4.5.0 which is incompatible.\n",
      "pydantic-core 2.4.0 requires typing-extensions!=4.7.0,>=4.6.0, but you have typing-extensions 4.5.0 which is incompatible.\u001b[0m\u001b[31m\n",
      "\u001b[0mSuccessfully installed tensorflow-serving-api-2.13.0 typing-extensions-4.5.0\n"
     ]
    }
   ],
   "source": [
    "!pip install python-multipart\n",
    "!pip install pillow\n",
    "!pip install tensorflow-serving-api"
   ]
  },
  {
   "cell_type": "code",
   "execution_count": null,
   "id": "5278610a",
   "metadata": {},
   "outputs": [],
   "source": []
  }
 ],
 "metadata": {
  "kernelspec": {
   "display_name": "Python 3 (ipykernel)",
   "language": "python",
   "name": "python3"
  },
  "language_info": {
   "codemirror_mode": {
    "name": "ipython",
    "version": 3
   },
   "file_extension": ".py",
   "mimetype": "text/x-python",
   "name": "python",
   "nbconvert_exporter": "python",
   "pygments_lexer": "ipython3",
   "version": "3.11.4"
  }
 },
 "nbformat": 4,
 "nbformat_minor": 5
}
